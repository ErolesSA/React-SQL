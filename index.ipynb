{
 "cells": [
  {
   "attachments": {},
   "cell_type": "markdown",
   "metadata": {},
   "source": [
    "1) Crear carpeta \n",
    "2) entrar a carpeta y abrir terminal\n",
    "3) npm init -y  \n",
    "4)Extencion de msql \n",
    "\n",
    " npm express mysql2 morgan\n",
    "\n",
    "5) npm i express mysql2 morgan \n",
    "6)  npm i nodemon\n",
    "7) Verificar que corra\n",
    "\n",
    "8) npm run dev"
   ]
  },
  {
   "cell_type": "code",
   "execution_count": null,
   "metadata": {},
   "outputs": [],
   "source": []
  }
 ],
 "metadata": {
  "language_info": {
   "name": "python"
  },
  "orig_nbformat": 4
 },
 "nbformat": 4,
 "nbformat_minor": 2
}
